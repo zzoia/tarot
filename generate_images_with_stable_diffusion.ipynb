{
 "cells": [
  {
   "cell_type": "code",
   "execution_count": 1,
   "metadata": {},
   "outputs": [
    {
     "name": "stdout",
     "output_type": "stream",
     "text": [
      "\n",
      "\u001b[1m[\u001b[0m\u001b[34;49mnotice\u001b[0m\u001b[1;39;49m]\u001b[0m\u001b[39;49m A new release of pip is available: \u001b[0m\u001b[31;49m23.1.2\u001b[0m\u001b[39;49m -> \u001b[0m\u001b[32;49m23.3.2\u001b[0m\n",
      "\u001b[1m[\u001b[0m\u001b[34;49mnotice\u001b[0m\u001b[1;39;49m]\u001b[0m\u001b[39;49m To update, run: \u001b[0m\u001b[32;49mpip install --upgrade pip\u001b[0m\n",
      "\u001b[31mERROR: pip's dependency resolver does not currently take into account all the packages that are installed. This behaviour is the source of the following dependency conflicts.\n",
      "tensorflow 2.15.0 requires keras<2.16,>=2.15.0, but you have keras 3.0.2 which is incompatible.\u001b[0m\u001b[31m\n",
      "\u001b[0m\n",
      "\u001b[1m[\u001b[0m\u001b[34;49mnotice\u001b[0m\u001b[1;39;49m]\u001b[0m\u001b[39;49m A new release of pip is available: \u001b[0m\u001b[31;49m23.1.2\u001b[0m\u001b[39;49m -> \u001b[0m\u001b[32;49m23.3.2\u001b[0m\n",
      "\u001b[1m[\u001b[0m\u001b[34;49mnotice\u001b[0m\u001b[1;39;49m]\u001b[0m\u001b[39;49m To update, run: \u001b[0m\u001b[32;49mpip install --upgrade pip\u001b[0m\n"
     ]
    }
   ],
   "source": [
    "!pip install -q --upgrade keras-cv\n",
    "!pip install -q --upgrade keras  # Upgrade to Keras 3."
   ]
  },
  {
   "cell_type": "code",
   "execution_count": 2,
   "metadata": {},
   "outputs": [
    {
     "name": "stdout",
     "output_type": "stream",
     "text": [
      "Collecting tensorflow@ https://storage.googleapis.com/tensorflow/linux/gpu/tensorflow-2.15.0-cp311-cp311-manylinux_2_17_x86_64.manylinux2014_x86_64.whl#sha256=dee8ec2b2c6c942ae65d25746e53cdc475e82d5fcbbb3009ce47f5963d69ebfc (from -r requirements.txt (line 75))\n",
      "  Using cached https://storage.googleapis.com/tensorflow/linux/gpu/tensorflow-2.15.0-cp311-cp311-manylinux_2_17_x86_64.manylinux2014_x86_64.whl (475.3 MB)\n",
      "Collecting absl-py==2.0.0 (from -r requirements.txt (line 1))\n",
      "  Using cached absl_py-2.0.0-py3-none-any.whl (130 kB)\n",
      "Requirement already satisfied: astor==0.8.1 in /home/gitpod/.pyenv/versions/3.11.4/lib/python3.11/site-packages (from -r requirements.txt (line 2)) (0.8.1)\n",
      "Requirement already satisfied: astunparse==1.6.3 in /home/gitpod/.pyenv/versions/3.11.4/lib/python3.11/site-packages (from -r requirements.txt (line 3)) (1.6.3)\n",
      "Requirement already satisfied: cachetools==5.3.2 in /home/gitpod/.pyenv/versions/3.11.4/lib/python3.11/site-packages (from -r requirements.txt (line 4)) (5.3.2)\n",
      "Requirement already satisfied: certifi==2023.11.17 in /home/gitpod/.pyenv/versions/3.11.4/lib/python3.11/site-packages (from -r requirements.txt (line 5)) (2023.11.17)\n",
      "Requirement already satisfied: charset-normalizer==3.3.2 in /home/gitpod/.pyenv/versions/3.11.4/lib/python3.11/site-packages (from -r requirements.txt (line 6)) (3.3.2)\n",
      "Requirement already satisfied: cmake==3.28.1 in /home/gitpod/.pyenv/versions/3.11.4/lib/python3.11/site-packages (from -r requirements.txt (line 7)) (3.28.1)\n",
      "Requirement already satisfied: contourpy==1.2.0 in /home/gitpod/.pyenv/versions/3.11.4/lib/python3.11/site-packages (from -r requirements.txt (line 8)) (1.2.0)\n",
      "Requirement already satisfied: cycler==0.12.1 in /home/gitpod/.pyenv/versions/3.11.4/lib/python3.11/site-packages (from -r requirements.txt (line 9)) (0.12.1)\n",
      "Requirement already satisfied: distro==1.8.0 in /home/gitpod/.pyenv/versions/3.11.4/lib/python3.11/site-packages (from -r requirements.txt (line 10)) (1.8.0)\n",
      "Requirement already satisfied: dm-tree==0.1.8 in /home/gitpod/.pyenv/versions/3.11.4/lib/python3.11/site-packages (from -r requirements.txt (line 11)) (0.1.8)\n",
      "Requirement already satisfied: filelock==3.13.1 in /home/gitpod/.pyenv/versions/3.11.4/lib/python3.11/site-packages (from -r requirements.txt (line 12)) (3.13.1)\n",
      "Requirement already satisfied: flatbuffers==23.5.26 in /home/gitpod/.pyenv/versions/3.11.4/lib/python3.11/site-packages (from -r requirements.txt (line 13)) (23.5.26)\n",
      "Requirement already satisfied: fonttools==4.47.0 in /home/gitpod/.pyenv/versions/3.11.4/lib/python3.11/site-packages (from -r requirements.txt (line 14)) (4.47.0)\n",
      "Requirement already satisfied: fsspec==2023.12.2 in /home/gitpod/.pyenv/versions/3.11.4/lib/python3.11/site-packages (from -r requirements.txt (line 15)) (2023.12.2)\n",
      "Requirement already satisfied: gast==0.5.4 in /home/gitpod/.pyenv/versions/3.11.4/lib/python3.11/site-packages (from -r requirements.txt (line 16)) (0.5.4)\n",
      "Requirement already satisfied: google-auth==2.25.2 in /home/gitpod/.pyenv/versions/3.11.4/lib/python3.11/site-packages (from -r requirements.txt (line 17)) (2.25.2)\n",
      "Requirement already satisfied: google-auth-oauthlib==1.2.0 in /home/gitpod/.pyenv/versions/3.11.4/lib/python3.11/site-packages (from -r requirements.txt (line 18)) (1.2.0)\n",
      "Requirement already satisfied: google-pasta==0.2.0 in /home/gitpod/.pyenv/versions/3.11.4/lib/python3.11/site-packages (from -r requirements.txt (line 19)) (0.2.0)\n",
      "Requirement already satisfied: grpcio==1.60.0 in /home/gitpod/.pyenv/versions/3.11.4/lib/python3.11/site-packages (from -r requirements.txt (line 20)) (1.60.0)\n",
      "Requirement already satisfied: h5py==3.10.0 in /home/gitpod/.pyenv/versions/3.11.4/lib/python3.11/site-packages (from -r requirements.txt (line 21)) (3.10.0)\n",
      "Requirement already satisfied: idna==3.6 in /home/gitpod/.pyenv/versions/3.11.4/lib/python3.11/site-packages (from -r requirements.txt (line 22)) (3.6)\n",
      "Requirement already satisfied: Jinja2==3.1.2 in /home/gitpod/.pyenv/versions/3.11.4/lib/python3.11/site-packages (from -r requirements.txt (line 23)) (3.1.2)\n",
      "Collecting keras==2.15.0 (from -r requirements.txt (line 24))\n",
      "  Using cached keras-2.15.0-py3-none-any.whl (1.7 MB)\n",
      "Requirement already satisfied: Keras-Applications==1.0.8 in /home/gitpod/.pyenv/versions/3.11.4/lib/python3.11/site-packages (from -r requirements.txt (line 25)) (1.0.8)\n",
      "Requirement already satisfied: Keras-Preprocessing==1.1.2 in /home/gitpod/.pyenv/versions/3.11.4/lib/python3.11/site-packages (from -r requirements.txt (line 26)) (1.1.2)\n",
      "Requirement already satisfied: kiwisolver==1.4.5 in /home/gitpod/.pyenv/versions/3.11.4/lib/python3.11/site-packages (from -r requirements.txt (line 27)) (1.4.5)\n",
      "Requirement already satisfied: libclang==16.0.6 in /home/gitpod/.pyenv/versions/3.11.4/lib/python3.11/site-packages (from -r requirements.txt (line 28)) (16.0.6)\n",
      "Requirement already satisfied: lxml==4.9.4 in /home/gitpod/.pyenv/versions/3.11.4/lib/python3.11/site-packages (from -r requirements.txt (line 29)) (4.9.4)\n",
      "Requirement already satisfied: Markdown==3.5.1 in /home/gitpod/.pyenv/versions/3.11.4/lib/python3.11/site-packages (from -r requirements.txt (line 30)) (3.5.1)\n",
      "Requirement already satisfied: markdown-it-py==3.0.0 in /home/gitpod/.pyenv/versions/3.11.4/lib/python3.11/site-packages (from -r requirements.txt (line 31)) (3.0.0)\n",
      "Requirement already satisfied: MarkupSafe==2.1.3 in /home/gitpod/.pyenv/versions/3.11.4/lib/python3.11/site-packages (from -r requirements.txt (line 32)) (2.1.3)\n",
      "Requirement already satisfied: matplotlib==3.7.1 in /home/gitpod/.pyenv/versions/3.11.4/lib/python3.11/site-packages (from -r requirements.txt (line 33)) (3.7.1)\n",
      "Requirement already satisfied: mdurl==0.1.2 in /home/gitpod/.pyenv/versions/3.11.4/lib/python3.11/site-packages (from -r requirements.txt (line 34)) (0.1.2)\n",
      "Requirement already satisfied: ml-dtypes==0.2.0 in /home/gitpod/.pyenv/versions/3.11.4/lib/python3.11/site-packages (from -r requirements.txt (line 35)) (0.2.0)\n",
      "Requirement already satisfied: mpmath==1.3.0 in /home/gitpod/.pyenv/versions/3.11.4/lib/python3.11/site-packages (from -r requirements.txt (line 36)) (1.3.0)\n",
      "Requirement already satisfied: namex==0.0.7 in /home/gitpod/.pyenv/versions/3.11.4/lib/python3.11/site-packages (from -r requirements.txt (line 37)) (0.0.7)\n",
      "Requirement already satisfied: networkx==3.2.1 in /home/gitpod/.pyenv/versions/3.11.4/lib/python3.11/site-packages (from -r requirements.txt (line 38)) (3.2.1)\n",
      "Requirement already satisfied: numpy==1.23.5 in /home/gitpod/.pyenv/versions/3.11.4/lib/python3.11/site-packages (from -r requirements.txt (line 39)) (1.23.5)\n",
      "Requirement already satisfied: nvidia-cublas-cu12==12.1.3.1 in /home/gitpod/.pyenv/versions/3.11.4/lib/python3.11/site-packages (from -r requirements.txt (line 40)) (12.1.3.1)\n",
      "Requirement already satisfied: nvidia-cuda-cupti-cu12==12.1.105 in /home/gitpod/.pyenv/versions/3.11.4/lib/python3.11/site-packages (from -r requirements.txt (line 41)) (12.1.105)\n",
      "Requirement already satisfied: nvidia-cuda-nvrtc-cu12==12.1.105 in /home/gitpod/.pyenv/versions/3.11.4/lib/python3.11/site-packages (from -r requirements.txt (line 42)) (12.1.105)\n",
      "Requirement already satisfied: nvidia-cuda-runtime-cu12==12.1.105 in /home/gitpod/.pyenv/versions/3.11.4/lib/python3.11/site-packages (from -r requirements.txt (line 43)) (12.1.105)\n",
      "Requirement already satisfied: nvidia-cudnn-cu12==8.9.2.26 in /home/gitpod/.pyenv/versions/3.11.4/lib/python3.11/site-packages (from -r requirements.txt (line 44)) (8.9.2.26)\n",
      "Requirement already satisfied: nvidia-cufft-cu12==11.0.2.54 in /home/gitpod/.pyenv/versions/3.11.4/lib/python3.11/site-packages (from -r requirements.txt (line 45)) (11.0.2.54)\n",
      "Requirement already satisfied: nvidia-curand-cu12==10.3.2.106 in /home/gitpod/.pyenv/versions/3.11.4/lib/python3.11/site-packages (from -r requirements.txt (line 46)) (10.3.2.106)\n",
      "Requirement already satisfied: nvidia-cusolver-cu12==11.4.5.107 in /home/gitpod/.pyenv/versions/3.11.4/lib/python3.11/site-packages (from -r requirements.txt (line 47)) (11.4.5.107)\n",
      "Requirement already satisfied: nvidia-cusparse-cu12==12.1.0.106 in /home/gitpod/.pyenv/versions/3.11.4/lib/python3.11/site-packages (from -r requirements.txt (line 48)) (12.1.0.106)\n",
      "Requirement already satisfied: nvidia-nccl-cu12==2.18.1 in /home/gitpod/.pyenv/versions/3.11.4/lib/python3.11/site-packages (from -r requirements.txt (line 49)) (2.18.1)\n",
      "Requirement already satisfied: nvidia-nvjitlink-cu12==12.3.101 in /home/gitpod/.pyenv/versions/3.11.4/lib/python3.11/site-packages (from -r requirements.txt (line 50)) (12.3.101)\n",
      "Requirement already satisfied: nvidia-nvtx-cu12==12.1.105 in /home/gitpod/.pyenv/versions/3.11.4/lib/python3.11/site-packages (from -r requirements.txt (line 51)) (12.1.105)\n",
      "Requirement already satisfied: oauthlib==3.2.2 in /home/gitpod/.pyenv/versions/3.11.4/lib/python3.11/site-packages (from -r requirements.txt (line 52)) (3.2.2)\n",
      "Requirement already satisfied: opencv-python==4.8.1.78 in /home/gitpod/.pyenv/versions/3.11.4/lib/python3.11/site-packages (from -r requirements.txt (line 53)) (4.8.1.78)\n",
      "Requirement already satisfied: opencv-python-headless==4.8.1.78 in /home/gitpod/.pyenv/versions/3.11.4/lib/python3.11/site-packages (from -r requirements.txt (line 54)) (4.8.1.78)\n",
      "Requirement already satisfied: opt-einsum==3.3.0 in /home/gitpod/.pyenv/versions/3.11.4/lib/python3.11/site-packages (from -r requirements.txt (line 55)) (3.3.0)\n",
      "Requirement already satisfied: packaging==23.2 in /home/gitpod/.pyenv/versions/3.11.4/lib/python3.11/site-packages (from -r requirements.txt (line 56)) (23.2)\n",
      "Requirement already satisfied: Pillow==9.5.0 in /home/gitpod/.pyenv/versions/3.11.4/lib/python3.11/site-packages (from -r requirements.txt (line 57)) (9.5.0)\n",
      "Collecting protobuf==4.23.4 (from -r requirements.txt (line 58))\n",
      "  Using cached protobuf-4.23.4-cp37-abi3-manylinux2014_x86_64.whl (304 kB)\n",
      "Requirement already satisfied: pyasn1==0.5.1 in /home/gitpod/.pyenv/versions/3.11.4/lib/python3.11/site-packages (from -r requirements.txt (line 59)) (0.5.1)\n",
      "Requirement already satisfied: pyasn1-modules==0.3.0 in /home/gitpod/.pyenv/versions/3.11.4/lib/python3.11/site-packages (from -r requirements.txt (line 60)) (0.3.0)\n",
      "Requirement already satisfied: pydot==1.4.2 in /home/gitpod/.pyenv/versions/3.11.4/lib/python3.11/site-packages (from -r requirements.txt (line 61)) (1.4.2)\n",
      "Requirement already satisfied: Pygments==2.17.2 in /home/gitpod/.pyenv/versions/3.11.4/lib/python3.11/site-packages (from -r requirements.txt (line 62)) (2.17.2)\n",
      "Requirement already satisfied: pyparsing==3.1.1 in /home/gitpod/.pyenv/versions/3.11.4/lib/python3.11/site-packages (from -r requirements.txt (line 63)) (3.1.1)\n",
      "Requirement already satisfied: python-dateutil==2.8.2 in /home/gitpod/.pyenv/versions/3.11.4/lib/python3.11/site-packages (from -r requirements.txt (line 64)) (2.8.2)\n",
      "Requirement already satisfied: requests==2.31.0 in /home/gitpod/.pyenv/versions/3.11.4/lib/python3.11/site-packages (from -r requirements.txt (line 65)) (2.31.0)\n",
      "Requirement already satisfied: requests-oauthlib==1.3.1 in /home/gitpod/.pyenv/versions/3.11.4/lib/python3.11/site-packages (from -r requirements.txt (line 66)) (1.3.1)\n",
      "Requirement already satisfied: rich==13.7.0 in /home/gitpod/.pyenv/versions/3.11.4/lib/python3.11/site-packages (from -r requirements.txt (line 67)) (13.7.0)\n",
      "Requirement already satisfied: rsa==4.9 in /home/gitpod/.pyenv/versions/3.11.4/lib/python3.11/site-packages (from -r requirements.txt (line 68)) (4.9)\n",
      "Requirement already satisfied: scikit-build==0.17.6 in /home/gitpod/.pyenv/versions/3.11.4/lib/python3.11/site-packages (from -r requirements.txt (line 69)) (0.17.6)\n",
      "Requirement already satisfied: scipy==1.11.4 in /home/gitpod/.pyenv/versions/3.11.4/lib/python3.11/site-packages (from -r requirements.txt (line 70)) (1.11.4)\n",
      "Requirement already satisfied: six==1.16.0 in /home/gitpod/.pyenv/versions/3.11.4/lib/python3.11/site-packages (from -r requirements.txt (line 71)) (1.16.0)\n",
      "Requirement already satisfied: sympy==1.12 in /home/gitpod/.pyenv/versions/3.11.4/lib/python3.11/site-packages (from -r requirements.txt (line 72)) (1.12)\n",
      "Requirement already satisfied: tensorboard==2.15.1 in /home/gitpod/.pyenv/versions/3.11.4/lib/python3.11/site-packages (from -r requirements.txt (line 73)) (2.15.1)\n",
      "Requirement already satisfied: tensorboard-data-server==0.7.2 in /home/gitpod/.pyenv/versions/3.11.4/lib/python3.11/site-packages (from -r requirements.txt (line 74)) (0.7.2)\n",
      "Requirement already satisfied: tensorflow-estimator==2.15.0 in /home/gitpod/.pyenv/versions/3.11.4/lib/python3.11/site-packages (from -r requirements.txt (line 76)) (2.15.0)\n",
      "Requirement already satisfied: tensorflow-hub==0.15.0 in /home/gitpod/.pyenv/versions/3.11.4/lib/python3.11/site-packages (from -r requirements.txt (line 77)) (0.15.0)\n",
      "Requirement already satisfied: tensorflow-io-gcs-filesystem==0.35.0 in /home/gitpod/.pyenv/versions/3.11.4/lib/python3.11/site-packages (from -r requirements.txt (line 78)) (0.35.0)\n",
      "Requirement already satisfied: termcolor==2.4.0 in /home/gitpod/.pyenv/versions/3.11.4/lib/python3.11/site-packages (from -r requirements.txt (line 79)) (2.4.0)\n",
      "Requirement already satisfied: tk==0.1.0 in /home/gitpod/.pyenv/versions/3.11.4/lib/python3.11/site-packages (from -r requirements.txt (line 80)) (0.1.0)\n",
      "Requirement already satisfied: torch==2.1.2 in /home/gitpod/.pyenv/versions/3.11.4/lib/python3.11/site-packages (from -r requirements.txt (line 81)) (2.1.2)\n",
      "Requirement already satisfied: torchvision==0.16.2 in /home/gitpod/.pyenv/versions/3.11.4/lib/python3.11/site-packages (from -r requirements.txt (line 82)) (0.16.2)\n",
      "Requirement already satisfied: triton==2.1.0 in /home/gitpod/.pyenv/versions/3.11.4/lib/python3.11/site-packages (from -r requirements.txt (line 83)) (2.1.0)\n",
      "Requirement already satisfied: typing_extensions==4.9.0 in /home/gitpod/.pyenv/versions/3.11.4/lib/python3.11/site-packages (from -r requirements.txt (line 84)) (4.9.0)\n",
      "Requirement already satisfied: urllib3==2.1.0 in /home/gitpod/.pyenv/versions/3.11.4/lib/python3.11/site-packages (from -r requirements.txt (line 85)) (2.1.0)\n",
      "Requirement already satisfied: Werkzeug==3.0.1 in /home/gitpod/.pyenv/versions/3.11.4/lib/python3.11/site-packages (from -r requirements.txt (line 86)) (3.0.1)\n",
      "Requirement already satisfied: wrapt==1.14.1 in /home/gitpod/.pyenv/versions/3.11.4/lib/python3.11/site-packages (from -r requirements.txt (line 87)) (1.14.1)\n",
      "Requirement already satisfied: wheel<1.0,>=0.23.0 in /home/gitpod/.pyenv/versions/3.11.4/lib/python3.11/site-packages (from astunparse==1.6.3->-r requirements.txt (line 3)) (0.42.0)\n",
      "Requirement already satisfied: setuptools>=42.0.0 in /home/gitpod/.pyenv/versions/3.11.4/lib/python3.11/site-packages (from scikit-build==0.17.6->-r requirements.txt (line 69)) (65.5.0)\n",
      "Installing collected packages: protobuf, keras, absl-py\n",
      "  Attempting uninstall: protobuf\n",
      "    Found existing installation: protobuf 3.20.3\n",
      "    Uninstalling protobuf-3.20.3:\n",
      "      Successfully uninstalled protobuf-3.20.3\n",
      "  Attempting uninstall: keras\n",
      "    Found existing installation: keras 3.0.2\n",
      "    Uninstalling keras-3.0.2:\n",
      "      Successfully uninstalled keras-3.0.2\n",
      "  Attempting uninstall: absl-py\n",
      "    Found existing installation: absl-py 1.4.0\n",
      "    Uninstalling absl-py-1.4.0:\n",
      "      Successfully uninstalled absl-py-1.4.0\n",
      "\u001b[31mERROR: pip's dependency resolver does not currently take into account all the packages that are installed. This behaviour is the source of the following dependency conflicts.\n",
      "tensorflow-metadata 1.14.0 requires absl-py<2.0.0,>=0.9, but you have absl-py 2.0.0 which is incompatible.\n",
      "tensorflow-metadata 1.14.0 requires protobuf<4.21,>=3.20.3, but you have protobuf 4.23.4 which is incompatible.\u001b[0m\u001b[31m\n",
      "\u001b[0mSuccessfully installed absl-py-2.0.0 keras-2.15.0 protobuf-4.23.4\n",
      "\n",
      "\u001b[1m[\u001b[0m\u001b[34;49mnotice\u001b[0m\u001b[1;39;49m]\u001b[0m\u001b[39;49m A new release of pip is available: \u001b[0m\u001b[31;49m23.1.2\u001b[0m\u001b[39;49m -> \u001b[0m\u001b[32;49m23.3.2\u001b[0m\n",
      "\u001b[1m[\u001b[0m\u001b[34;49mnotice\u001b[0m\u001b[1;39;49m]\u001b[0m\u001b[39;49m To update, run: \u001b[0m\u001b[32;49mpip install --upgrade pip\u001b[0m\n"
     ]
    }
   ],
   "source": [
    "! pip install -r requirements.txt"
   ]
  },
  {
   "cell_type": "code",
   "execution_count": 1,
   "metadata": {},
   "outputs": [
    {
     "name": "stderr",
     "output_type": "stream",
     "text": [
      "2023-12-27 15:51:32.154405: E external/local_xla/xla/stream_executor/cuda/cuda_dnn.cc:9261] Unable to register cuDNN factory: Attempting to register factory for plugin cuDNN when one has already been registered\n",
      "2023-12-27 15:51:32.154464: E external/local_xla/xla/stream_executor/cuda/cuda_fft.cc:607] Unable to register cuFFT factory: Attempting to register factory for plugin cuFFT when one has already been registered\n",
      "2023-12-27 15:51:32.244793: E external/local_xla/xla/stream_executor/cuda/cuda_blas.cc:1515] Unable to register cuBLAS factory: Attempting to register factory for plugin cuBLAS when one has already been registered\n",
      "2023-12-27 15:51:32.255041: I tensorflow/core/platform/cpu_feature_guard.cc:182] This TensorFlow binary is optimized to use available CPU instructions in performance-critical operations.\n",
      "To enable the following instructions: AVX2 FMA, in other operations, rebuild TensorFlow with the appropriate compiler flags.\n",
      "2023-12-27 15:51:33.926446: W tensorflow/compiler/tf2tensorrt/utils/py_utils.cc:38] TF-TRT Warning: Could not find TensorRT\n"
     ]
    },
    {
     "name": "stdout",
     "output_type": "stream",
     "text": [
      "Using TensorFlow backend\n"
     ]
    },
    {
     "name": "stderr",
     "output_type": "stream",
     "text": [
      "/home/gitpod/.pyenv/versions/3.11.4/lib/python3.11/site-packages/tqdm/auto.py:21: TqdmWarning: IProgress not found. Please update jupyter and ipywidgets. See https://ipywidgets.readthedocs.io/en/stable/user_install.html\n",
      "  from .autonotebook import tqdm as notebook_tqdm\n"
     ]
    },
    {
     "name": "stdout",
     "output_type": "stream",
     "text": [
      "WARNING:tensorflow:Mixed precision compatibility check (mixed_float16): WARNING\n",
      "The dtype policy mixed_float16 may run slowly because this machine does not have a GPU. Only Nvidia GPUs with compute capability of at least 7.0 run quickly with mixed_float16.\n",
      "If you will use compatible GPU(s) not attached to this host, e.g. by running a multi-worker model, you can ignore this warning. This message will only be logged once\n",
      "By using this model checkpoint, you acknowledge that its usage is subject to the terms of the CreativeML Open RAIL-M license at https://raw.githubusercontent.com/CompVis/stable-diffusion/main/LICENSE\n"
     ]
    },
    {
     "name": "stderr",
     "output_type": "stream",
     "text": [
      "2023-12-27 15:53:58.570815: W external/local_tsl/tsl/framework/cpu_allocator_impl.cc:83] Allocation of 805306368 exceeds 10% of free system memory.\n",
      "2023-12-27 15:56:30.866797: W external/local_tsl/tsl/framework/cpu_allocator_impl.cc:83] Allocation of 805306368 exceeds 10% of free system memory.\n"
     ]
    }
   ],
   "source": [
    "import time\n",
    "import keras_cv\n",
    "import keras\n",
    "import matplotlib.pyplot as plt\n",
    "\n",
    "keras.mixed_precision.set_global_policy(\"mixed_float16\")\n",
    "model = keras_cv.models.StableDiffusion(\n",
    "    img_width=512, img_height=512, jit_compile=False\n",
    ")\n",
    "\n",
    "images = model.text_to_image(\"photograph of an astronaut riding a horse\", batch_size=3)\n",
    "\n",
    "\n",
    "def plot_images(images):\n",
    "    plt.figure(figsize=(20, 20))\n",
    "    for i in range(len(images)):\n",
    "        ax = plt.subplot(1, len(images), i + 1)\n",
    "        plt.imshow(images[i])\n",
    "        plt.axis(\"off\")\n",
    "\n",
    "\n",
    "plot_images(images)"
   ]
  },
  {
   "cell_type": "code",
   "execution_count": null,
   "metadata": {},
   "outputs": [],
   "source": [
    "! pip install -q kaggle\n",
    "! mkdir ~/.kaggle\n",
    "! echo '{\"username\":\"zostzost\",\"key\":\"8d63e017dbd6f9bce2033215ff33031c\"}' > ~/.kaggle/kaggle.json\n",
    "! chmod 600 ~/.kaggle/kaggle.json\n",
    "! rm tarot-json.zip\n",
    "! rm -r 'downloadable_data/Tarot'\n",
    "! kaggle datasets download -d lsind18/tarot-json\n",
    "! unzip -q tarot-json -d downloadable_data/Tarot\n",
    "! rm tarot-json.zip"
   ]
  }
 ],
 "metadata": {
  "kernelspec": {
   "display_name": "Python 3",
   "language": "python",
   "name": "python3"
  },
  "language_info": {
   "codemirror_mode": {
    "name": "ipython",
    "version": 3
   },
   "file_extension": ".py",
   "mimetype": "text/x-python",
   "name": "python",
   "nbconvert_exporter": "python",
   "pygments_lexer": "ipython3",
   "version": "3.11.4"
  }
 },
 "nbformat": 4,
 "nbformat_minor": 2
}
